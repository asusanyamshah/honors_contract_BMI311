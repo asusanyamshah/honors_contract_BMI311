{
 "cells": [
  {
   "cell_type": "code",
   "execution_count": 1,
   "metadata": {},
   "outputs": [],
   "source": [
    "# Importing the necessary libraries\n",
    "import pandas as pd\n",
    "import numpy as np\n",
    "from matplotlib import pyplot as plt\n",
    "from sklearn.model_selection import train_test_split\n",
    "from sklearn.ensemble import RandomForestClassifier\n",
    "from sklearn.tree import DecisionTreeClassifier\n",
    "from sklearn.linear_model import LogisticRegression\n",
    "from sklearn.metrics import confusion_matrix, accuracy_score\n",
    "from xgboost import XGBClassifier\n",
    "from imblearn.over_sampling import RandomOverSampler\n",
    "import os\n",
    "\n",
    "# Defining the path for the csv file\n",
    "path = os.path.join(\"dataset.csv\")\n",
    "\n",
    "# Storing the dataframe in a variable named dataset\n",
    "dataset = pd.read_csv(path)\n",
    "\n",
    "# Dropping the unnecessary columns\n",
    "dataset = dataset.drop('seqn', axis='columns')\n",
    "dataset = dataset.drop('Marital', axis='columns')"
   ]
  },
  {
   "cell_type": "code",
   "execution_count": 2,
   "metadata": {},
   "outputs": [],
   "source": [
    "# Encoding the categorical variables and filling in the missing values\n",
    "sex_mapping = {'Male': 0, 'Female': 1}\n",
    "race_mapping = {'White': 0, 'Asian': 1, 'Black': 2, 'MexAmerican': 3, 'Hispanic': 4, 'Other': 5}\n",
    "\n",
    "dataset['Sex'] = dataset['Sex'].replace(sex_mapping)\n",
    "dataset['Race'] = dataset['Race'].replace(race_mapping)\n",
    "\n",
    "dataset = dataset.fillna(2)\n",
    "dataset = dataset.fillna(4)\n",
    "dataset = dataset.fillna(5)\n"
   ]
  },
  {
   "cell_type": "code",
   "execution_count": 3,
   "metadata": {},
   "outputs": [
    {
     "name": "stdout",
     "output_type": "stream",
     "text": [
      "93.14% is the accuracy\n",
      "[[429  41]\n",
      " [ 24 454]]\n"
     ]
    }
   ],
   "source": [
    "# Seperating the database into dependent and independent variables\n",
    "x = dataset.iloc[:, :-1].values\n",
    "y = dataset.iloc[:, -1].values.reshape(-1, 1)\n",
    "\n",
    "# Resampling the data to avoid overfitting\n",
    "ros = RandomOverSampler(random_state=0)\n",
    "\n",
    "# Resampling the data\n",
    "x_resampled, y_resampled = ros.fit_resample(x, y)\n",
    "x_train, x_test, y_train, y_test = train_test_split(x_resampled, y_resampled, test_size=0.3, random_state=0)\n",
    "\n",
    "# Making the Random Classifier model\n",
    "classifier = RandomForestClassifier(n_estimators=30, criterion='entropy', random_state=0)\n",
    "\n",
    "# Training the model\n",
    "classifier.fit(x_train, y_train)\n",
    "\n",
    "# Predicting the results \n",
    "y_pred = classifier.predict(x_test)\n",
    "\n",
    "# Getting accuracy results and confusion matrix\n",
    "cm = confusion_matrix(y_test, y_pred)\n",
    "print(f'{(accuracy_score(y_test, y_pred) * 100):.2f}% is the accuracy')\n",
    "print(cm)\n"
   ]
  },
  {
   "cell_type": "code",
   "execution_count": 4,
   "metadata": {},
   "outputs": [
    {
     "name": "stdout",
     "output_type": "stream",
     "text": [
      "90.93% is the accuracy\n",
      "[[417  53]\n",
      " [ 33 445]]\n"
     ]
    }
   ],
   "source": [
    "# Decision Tree Classifier\n",
    "classifier_decision_tree = DecisionTreeClassifier(criterion='entropy')\n",
    "classifier_decision_tree.fit(x_train, y_train)\n",
    "y_pred = classifier_decision_tree.predict(x_test)\n",
    "cm = confusion_matrix(y_test, y_pred)\n",
    "print(f'{(accuracy_score(y_test, y_pred) * 100):.2f}% is the accuracy')\n",
    "print(cm)"
   ]
  },
  {
   "cell_type": "code",
   "execution_count": 5,
   "metadata": {},
   "outputs": [
    {
     "name": "stdout",
     "output_type": "stream",
     "text": [
      "94.09% is the accuracy\n",
      "[[430  40]\n",
      " [ 16 462]]\n"
     ]
    }
   ],
   "source": [
    "# XGBoost Classifier\n",
    "classifier_xgboost = XGBClassifier(n_estimators = 100, max_depth = 3, learning_rate = 0.5)\n",
    "classifier_xgboost.fit(x_train, y_train)\n",
    "y_pred = classifier_xgboost.predict(x_test)\n",
    "\n",
    "cm = confusion_matrix(y_test, y_pred)\n",
    "print(f'{(accuracy_score(y_test, y_pred) * 100):.2f}% is the accuracy')\n",
    "print(cm)"
   ]
  },
  {
   "cell_type": "code",
   "execution_count": 6,
   "metadata": {},
   "outputs": [
    {
     "name": "stdout",
     "output_type": "stream",
     "text": [
      "79.22% is the accuracy\n",
      "[[364 106]\n",
      " [ 91 387]]\n"
     ]
    },
    {
     "name": "stderr",
     "output_type": "stream",
     "text": [
      "/Users/sanyamshah/anaconda3/lib/python3.11/site-packages/sklearn/linear_model/_logistic.py:458: ConvergenceWarning: lbfgs failed to converge (status=1):\n",
      "STOP: TOTAL NO. of ITERATIONS REACHED LIMIT.\n",
      "\n",
      "Increase the number of iterations (max_iter) or scale the data as shown in:\n",
      "    https://scikit-learn.org/stable/modules/preprocessing.html\n",
      "Please also refer to the documentation for alternative solver options:\n",
      "    https://scikit-learn.org/stable/modules/linear_model.html#logistic-regression\n",
      "  n_iter_i = _check_optimize_result(\n"
     ]
    }
   ],
   "source": [
    "# Logistic Regression\n",
    "classifier_logistic_regression = LogisticRegression()\n",
    "\n",
    "classifier_logistic_regression.fit(x_train, y_train)\n",
    "y_pred = classifier_logistic_regression.predict(x_test)\n",
    "cm = confusion_matrix(y_test, y_pred)\n",
    "print(f'{(accuracy_score(y_test, y_pred) * 100):.2f}% is the accuracy')\n",
    "print(cm)"
   ]
  }
 ],
 "metadata": {
  "kernelspec": {
   "display_name": "base",
   "language": "python",
   "name": "python3"
  },
  "language_info": {
   "codemirror_mode": {
    "name": "ipython",
    "version": 3
   },
   "file_extension": ".py",
   "mimetype": "text/x-python",
   "name": "python",
   "nbconvert_exporter": "python",
   "pygments_lexer": "ipython3",
   "version": "3.11.5"
  }
 },
 "nbformat": 4,
 "nbformat_minor": 2
}

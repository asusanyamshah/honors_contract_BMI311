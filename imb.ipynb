{
 "cells": [
  {
   "cell_type": "code",
   "execution_count": 1,
   "metadata": {},
   "outputs": [
    {
     "name": "stdout",
     "output_type": "stream",
     "text": [
      "(2401, 13)\n",
      "1579\n"
     ]
    }
   ],
   "source": [
    "# Importing the necessary libraries\n",
    "import pandas as pd\n",
    "import numpy as np\n",
    "from matplotlib import pyplot as plt\n",
    "from sklearn.metrics import confusion_matrix, accuracy_score, precision_score, recall_score, f1_score\n",
    "from xgboost import XGBClassifier\n",
    "from imblearn.over_sampling import RandomOverSampler\n",
    "\n",
    "import os\n",
    "\n",
    "# Defining the path for the csv file\n",
    "path = os.path.join(\"dataset.csv\")\n",
    "\n",
    "# Storing the dataframe in a variable named dataset\n",
    "dataset = pd.read_csv(path)\n",
    "\n",
    "# Dropping the unnecessary columns\n",
    "dataset = dataset.drop('seqn', axis='columns')\n",
    "dataset = dataset.drop('Marital', axis='columns')\n",
    "print(dataset.shape)\n",
    "print(len(dataset[dataset['MetabolicSyndrome'] == 0]))"
   ]
  },
  {
   "cell_type": "code",
   "execution_count": 2,
   "metadata": {},
   "outputs": [
    {
     "name": "stdout",
     "output_type": "stream",
     "text": [
      "x_train dtypes: float64\n",
      "y_train dtype: int64\n",
      "Accracy: \n",
      "\t86.50% is the accuracy\n",
      "\n"
     ]
    },
    {
     "name": "stderr",
     "output_type": "stream",
     "text": [
      "/var/folders/8t/p012qq114lj2w2v6rb72_p1c0000gn/T/ipykernel_89359/3193063792.py:5: FutureWarning: Downcasting behavior in `replace` is deprecated and will be removed in a future version. To retain the old behavior, explicitly call `result.infer_objects(copy=False)`. To opt-in to the future behavior, set `pd.set_option('future.no_silent_downcasting', True)`\n",
      "  dataset['Sex'] = dataset['Sex'].replace(sex_mapping)\n",
      "/var/folders/8t/p012qq114lj2w2v6rb72_p1c0000gn/T/ipykernel_89359/3193063792.py:6: FutureWarning: Downcasting behavior in `replace` is deprecated and will be removed in a future version. To retain the old behavior, explicitly call `result.infer_objects(copy=False)`. To opt-in to the future behavior, set `pd.set_option('future.no_silent_downcasting', True)`\n",
      "  dataset['Race'] = dataset['Race'].replace(race_mapping)\n"
     ]
    },
    {
     "name": "stdout",
     "output_type": "stream",
     "text": [
      "SMOTE Accuracy: 86.62%\n",
      "ADASYN Accuracy: 86.62%\n",
      "CTGAN Accuracy: 51.25%\n"
     ]
    },
    {
     "data": {
      "text/plain": [
       "'\\nprint(\"Confusion matrix: \")\\nprint(cm, \"\\n\")\\nprint(\"Precision Score: \")\\nprint(\"\\t\",precision_score(y_test, y_pred), \"\\n\")\\nprint(\"Recall: \")\\nprint(\"\\t\", recall_score(y_test, y_pred), \"\\n\")\\nprint(\"F1 Score: \")\\nprint(\"\\t\", f1_score(y_test, y_pred), \"\\n\")\\n'"
      ]
     },
     "execution_count": 2,
     "metadata": {},
     "output_type": "execute_result"
    }
   ],
   "source": [
    "# Encoding the categorical variables and filling in the missing values\n",
    "sex_mapping = {'Male': 0, 'Female': 1}\n",
    "race_mapping = {'White': 0, 'Asian': 1, 'Black': 2, 'MexAmerican': 3, 'Hispanic': 4, 'Other': 5}\n",
    "\n",
    "dataset['Sex'] = dataset['Sex'].replace(sex_mapping)\n",
    "dataset['Race'] = dataset['Race'].replace(race_mapping)\n",
    "\n",
    "# This is the incorrect implementation\n",
    "'''\n",
    "dataset = dataset.fillna(2)\n",
    "dataset = dataset.fillna(4)\n",
    "dataset = dataset.fillna(5)\n",
    "'''\n",
    "# Fill NaN values in column with index 2\n",
    "dataset.iloc[:, 2] = dataset.iloc[:, 2].fillna(dataset.iloc[:, 2].mean())\n",
    "\n",
    "# Fill NaN values in column with index 4\n",
    "dataset.iloc[:, 4] = dataset.iloc[:, 4].fillna(dataset.iloc[:, 4].mean())\n",
    "\n",
    "# Fill NaN values in column with index 5\n",
    "dataset.iloc[:, 5] = dataset.iloc[:, 5].fillna(dataset.iloc[:, 5].mean())\n",
    "\n",
    "outcome_0 = dataset[dataset['MetabolicSyndrome'] == 0]\n",
    "outcome_1 = dataset[dataset['MetabolicSyndrome'] == 1]\n",
    "\n",
    "\n",
    "test_size_each_class = 400\n",
    "test_0 = outcome_0.sample(n=test_size_each_class, random_state=42)\n",
    "test_1 = outcome_1.sample(n=test_size_each_class, random_state=42)\n",
    "#print(test_1)\n",
    "test_data = pd.concat([test_0, test_1])\n",
    "\n",
    "# Remove the test set rows from the original dataset to create the training set\n",
    "train_data = dataset.drop(test_data.index)\n",
    "\n",
    "\n",
    "x_train = train_data.drop('MetabolicSyndrome', axis=1).values\n",
    "y_train = train_data['MetabolicSyndrome'].values\n",
    "x_test = test_data.drop('MetabolicSyndrome', axis=1).values\n",
    "y_test = test_data['MetabolicSyndrome'].values\n",
    "\n",
    "# Resampling the data to avoid overfitting\n",
    "ros = RandomOverSampler(random_state=0)\n",
    "\n",
    "# Resampling the data\n",
    "x_resampled, y_resampled = ros.fit_resample(x_train, y_train)\n",
    "print(\"x_train dtypes:\", x_train.dtype)\n",
    "print(\"y_train dtype:\", y_train.dtype)\n",
    "\n",
    "# XGBoost Classifier\n",
    "classifier_xgboost = XGBClassifier(n_estimators = 100, max_depth = 3, learning_rate = 0.5)\n",
    "classifier_xgboost.fit(x_resampled, y_resampled)\n",
    "# joblib.dump(classifier_xgboost, 'xgboost_classifier.pkl')\n",
    "y_pred = classifier_xgboost.predict(x_test)\n",
    "#for i in x_test[0]:\n",
    "   # print(type(i))\n",
    "\n",
    "\n",
    "cm = confusion_matrix(y_test, y_pred)\n",
    "print(\"Accracy: \")\n",
    "print(f'\\t{(accuracy_score(y_test, y_pred) * 100):.2f}% is the accuracy\\n')\n",
    "from imblearn.over_sampling import SMOTE, ADASYN\n",
    "from ctgan import CTGAN\n",
    "\n",
    "\n",
    "# Function to evaluate model\n",
    "def evaluate_model(x_train, y_train, x_test, y_test, model):\n",
    "    model.fit(x_train, y_train)\n",
    "    y_pred = model.predict(x_test)\n",
    "    accuracy = accuracy_score(y_test, y_pred)\n",
    "    return accuracy\n",
    "\n",
    "# SMOTE\n",
    "smote = SMOTE(random_state=0)\n",
    "x_smote, y_smote = smote.fit_resample(x_train, y_train)\n",
    "smote_accuracy = evaluate_model(x_smote, y_smote, x_test, y_test, XGBClassifier(n_estimators=100, max_depth=3, learning_rate=0.3))\n",
    "\n",
    "# ADASYN\n",
    "adasyn = ADASYN(random_state=0)\n",
    "x_adasyn, y_adasyn = adasyn.fit_resample(x_train, y_train)\n",
    "adasyn_accuracy = evaluate_model(x_adasyn, y_adasyn, x_test, y_test, XGBClassifier(n_estimators=100, max_depth=3, learning_rate=0.5))\n",
    "\n",
    "# CTGAN\n",
    "ctgan = CTGAN(epochs=10)\n",
    "ctgan.fit(x_train, y_train)\n",
    "x_ctgan = ctgan.sample(len(x_train))\n",
    "y_ctgan = y_train  # Optionally reuse y_train if it makes sense for your scenario\n",
    "ctgan_accuracy = evaluate_model(x_ctgan, y_ctgan, x_test, y_test, XGBClassifier(n_estimators=100, max_depth=3, learning_rate=0.5))\n",
    "\n",
    "# Print the accuracies\n",
    "print(f'SMOTE Accuracy: {smote_accuracy * 100:.2f}%')\n",
    "print(f'ADASYN Accuracy: {adasyn_accuracy * 100:.2f}%')\n",
    "print(f'CTGAN Accuracy: {ctgan_accuracy * 100:.2f}%')\n",
    "'''\n",
    "print(\"Confusion matrix: \")\n",
    "print(cm, \"\\n\")\n",
    "print(\"Precision Score: \")\n",
    "print(\"\\t\",precision_score(y_test, y_pred), \"\\n\")\n",
    "print(\"Recall: \")\n",
    "print(\"\\t\", recall_score(y_test, y_pred), \"\\n\")\n",
    "print(\"F1 Score: \")\n",
    "print(\"\\t\", f1_score(y_test, y_pred), \"\\n\")\n",
    "'''"
   ]
  }
 ],
 "metadata": {
  "kernelspec": {
   "display_name": "base",
   "language": "python",
   "name": "python3"
  },
  "language_info": {
   "codemirror_mode": {
    "name": "ipython",
    "version": 3
   },
   "file_extension": ".py",
   "mimetype": "text/x-python",
   "name": "python",
   "nbconvert_exporter": "python",
   "pygments_lexer": "ipython3",
   "version": "3.11.5"
  }
 },
 "nbformat": 4,
 "nbformat_minor": 2
}
